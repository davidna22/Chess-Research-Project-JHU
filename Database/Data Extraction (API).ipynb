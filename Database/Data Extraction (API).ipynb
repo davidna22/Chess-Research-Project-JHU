{
 "cells": [
  {
   "cell_type": "code",
   "execution_count": 32,
   "id": "8a43d61a",
   "metadata": {},
   "outputs": [],
   "source": [
    "import requests\n",
    "import logging\n",
    "import urllib\n",
    "import json\n",
    "import ndjson\n",
    "import pandas as pd\n",
    "import sqlite3\n",
    "from Extractor import *\n",
    "\n",
    "LOG = logging.getLogger(__name__)\n",
    "API_URL = 'https://lichess.org/'\n",
    "    "
   ]
  },
  {
   "cell_type": "code",
   "execution_count": 2,
   "id": "2a790ff8",
   "metadata": {},
   "outputs": [],
   "source": [
    "API_URL = 'https://lichess.org/'\n",
    "AccessToken = \"lip_FdeTEN7DhU3ge3Eg8Shu\"\n",
    "API = LichessRequestor(Token = AccessToken, base_url = API_URL)"
   ]
  },
  {
   "cell_type": "code",
   "execution_count": 4,
   "id": "3c45c65d",
   "metadata": {},
   "outputs": [],
   "source": [
    "path = f'api/team/agadmators-team/users'\n",
    "data = API.get(path=path)"
   ]
  },
  {
   "cell_type": "code",
   "execution_count": 5,
   "id": "3795abab",
   "metadata": {},
   "outputs": [],
   "source": [
    "users_raw = LichessRequestor.parse(data)"
   ]
  },
  {
   "cell_type": "code",
   "execution_count": 6,
   "id": "1b4017fe",
   "metadata": {},
   "outputs": [],
   "source": [
    "user_list = LichessRequestor.parse_team(users_raw)"
   ]
  },
  {
   "cell_type": "code",
   "execution_count": null,
   "id": "693ba68d",
   "metadata": {},
   "outputs": [],
   "source": [
    "## Create the sqlite3 connection to db\n",
    "con = sqlite3.connect('chessdb.db')\n",
    "cursor = con.cursor()"
   ]
  },
  {
   "cell_type": "code",
   "execution_count": 7,
   "id": "f1139ef1",
   "metadata": {},
   "outputs": [
    {
     "data": {
      "text/html": [
       "<div>\n",
       "<style scoped>\n",
       "    .dataframe tbody tr th:only-of-type {\n",
       "        vertical-align: middle;\n",
       "    }\n",
       "\n",
       "    .dataframe tbody tr th {\n",
       "        vertical-align: top;\n",
       "    }\n",
       "\n",
       "    .dataframe thead th {\n",
       "        text-align: right;\n",
       "    }\n",
       "</style>\n",
       "<table border=\"1\" class=\"dataframe\">\n",
       "  <thead>\n",
       "    <tr style=\"text-align: right;\">\n",
       "      <th></th>\n",
       "      <th>id</th>\n",
       "      <th>Blitz_Games</th>\n",
       "      <th>Blitz_rating</th>\n",
       "      <th>Bullet_Games</th>\n",
       "      <th>Bullet_rating</th>\n",
       "      <th>Rapid_Games</th>\n",
       "      <th>Rapid_rating</th>\n",
       "      <th>country</th>\n",
       "    </tr>\n",
       "  </thead>\n",
       "  <tbody>\n",
       "    <tr>\n",
       "      <th>0</th>\n",
       "      <td>mgm2890</td>\n",
       "      <td>0</td>\n",
       "      <td>1500</td>\n",
       "      <td>1</td>\n",
       "      <td>1408</td>\n",
       "      <td>338</td>\n",
       "      <td>2014</td>\n",
       "      <td>No Country</td>\n",
       "    </tr>\n",
       "    <tr>\n",
       "      <th>1</th>\n",
       "      <td>sajjad_fathi</td>\n",
       "      <td>664</td>\n",
       "      <td>1717</td>\n",
       "      <td>13</td>\n",
       "      <td>1137</td>\n",
       "      <td>93</td>\n",
       "      <td>1790</td>\n",
       "      <td>IR</td>\n",
       "    </tr>\n",
       "    <tr>\n",
       "      <th>2</th>\n",
       "      <td>cagribgoode</td>\n",
       "      <td>1</td>\n",
       "      <td>1702</td>\n",
       "      <td>0</td>\n",
       "      <td>1500</td>\n",
       "      <td>8</td>\n",
       "      <td>1591</td>\n",
       "      <td>No Country</td>\n",
       "    </tr>\n",
       "    <tr>\n",
       "      <th>3</th>\n",
       "      <td>conanzhan</td>\n",
       "      <td>32</td>\n",
       "      <td>1214</td>\n",
       "      <td>59</td>\n",
       "      <td>1052</td>\n",
       "      <td>19</td>\n",
       "      <td>1019</td>\n",
       "      <td>GB-ENG</td>\n",
       "    </tr>\n",
       "    <tr>\n",
       "      <th>4</th>\n",
       "      <td>koroshkabir1</td>\n",
       "      <td>211</td>\n",
       "      <td>2008</td>\n",
       "      <td>8</td>\n",
       "      <td>1339</td>\n",
       "      <td>0</td>\n",
       "      <td>1500</td>\n",
       "      <td>No Country</td>\n",
       "    </tr>\n",
       "    <tr>\n",
       "      <th>...</th>\n",
       "      <td>...</td>\n",
       "      <td>...</td>\n",
       "      <td>...</td>\n",
       "      <td>...</td>\n",
       "      <td>...</td>\n",
       "      <td>...</td>\n",
       "      <td>...</td>\n",
       "      <td>...</td>\n",
       "    </tr>\n",
       "    <tr>\n",
       "      <th>20928</th>\n",
       "      <td>rvgupta1996</td>\n",
       "      <td>3759</td>\n",
       "      <td>2080</td>\n",
       "      <td>981</td>\n",
       "      <td>1905</td>\n",
       "      <td>1534</td>\n",
       "      <td>1969</td>\n",
       "      <td>IN</td>\n",
       "    </tr>\n",
       "    <tr>\n",
       "      <th>20929</th>\n",
       "      <td>jahjgv</td>\n",
       "      <td>20</td>\n",
       "      <td>1783</td>\n",
       "      <td>5</td>\n",
       "      <td>1470</td>\n",
       "      <td>7</td>\n",
       "      <td>1804</td>\n",
       "      <td>No Country</td>\n",
       "    </tr>\n",
       "    <tr>\n",
       "      <th>20930</th>\n",
       "      <td>suhail59</td>\n",
       "      <td>146</td>\n",
       "      <td>1477</td>\n",
       "      <td>6784</td>\n",
       "      <td>1497</td>\n",
       "      <td>72</td>\n",
       "      <td>1706</td>\n",
       "      <td>No Country</td>\n",
       "    </tr>\n",
       "    <tr>\n",
       "      <th>20931</th>\n",
       "      <td>hasidicwilliamsburg</td>\n",
       "      <td>7631</td>\n",
       "      <td>2130</td>\n",
       "      <td>3338</td>\n",
       "      <td>2003</td>\n",
       "      <td>1032</td>\n",
       "      <td>2097</td>\n",
       "      <td>No Country</td>\n",
       "    </tr>\n",
       "    <tr>\n",
       "      <th>20932</th>\n",
       "      <td>zhylko</td>\n",
       "      <td>2772</td>\n",
       "      <td>1808</td>\n",
       "      <td>3343</td>\n",
       "      <td>1365</td>\n",
       "      <td>1116</td>\n",
       "      <td>1937</td>\n",
       "      <td>UA</td>\n",
       "    </tr>\n",
       "  </tbody>\n",
       "</table>\n",
       "<p>20933 rows × 8 columns</p>\n",
       "</div>"
      ],
      "text/plain": [
       "                        id  Blitz_Games  Blitz_rating  Bullet_Games  \\\n",
       "0                  mgm2890            0          1500             1   \n",
       "1             sajjad_fathi          664          1717            13   \n",
       "2              cagribgoode            1          1702             0   \n",
       "3                conanzhan           32          1214            59   \n",
       "4             koroshkabir1          211          2008             8   \n",
       "...                    ...          ...           ...           ...   \n",
       "20928          rvgupta1996         3759          2080           981   \n",
       "20929               jahjgv           20          1783             5   \n",
       "20930             suhail59          146          1477          6784   \n",
       "20931  hasidicwilliamsburg         7631          2130          3338   \n",
       "20932               zhylko         2772          1808          3343   \n",
       "\n",
       "       Bullet_rating  Rapid_Games  Rapid_rating     country  \n",
       "0               1408          338          2014  No Country  \n",
       "1               1137           93          1790          IR  \n",
       "2               1500            8          1591  No Country  \n",
       "3               1052           19          1019      GB-ENG  \n",
       "4               1339            0          1500  No Country  \n",
       "...              ...          ...           ...         ...  \n",
       "20928           1905         1534          1969          IN  \n",
       "20929           1470            7          1804  No Country  \n",
       "20930           1497           72          1706  No Country  \n",
       "20931           2003         1032          2097  No Country  \n",
       "20932           1365         1116          1937          UA  \n",
       "\n",
       "[20933 rows x 8 columns]"
      ]
     },
     "execution_count": 7,
     "metadata": {},
     "output_type": "execute_result"
    }
   ],
   "source": [
    "user_list.to_csv(\"user_list.csv\")\n",
    "## Use pandas to create the new table in the database\n",
    "user_raw.to_sql(\"users\", con, if_exists = \"replace\")"
   ]
  },
  {
   "cell_type": "code",
   "execution_count": null,
   "id": "652da67f",
   "metadata": {},
   "outputs": [],
   "source": [
    "## Use pandas to upload country table lookup\n",
    "## file from: https://stefangabos.github.io/world_countries/\n",
    "countries = pd.read_csv(\"countries.csv\")\n",
    "countries.to_sql(\"country\", con, if_exists = \"replace\")"
   ]
  },
  {
   "cell_type": "code",
   "execution_count": null,
   "id": "c531ac5f",
   "metadata": {},
   "outputs": [],
   "source": [
    "## Query to clean the data\n",
    "query = \"\"\"\n",
    "Select t1.id, t1.blitz_games, t1.blitz_rating, t1.rapid_games, t1.rapid_rating, t1.bullet_games, \n",
    "t1.bullet_rating, t1.country\n",
    "FROM\n",
    "(SELECT \n",
    "    id, blitz_games, blitz_rating, rapid_games, rapid_rating, bullet_games, bullet_rating,\n",
    "    (CASE country\n",
    "        WHEN \"GB-ENG\" THEN \"UK\"\n",
    "        WHEN \"GB-NIR\" THEN \"UK\"\n",
    "        WHEN \"GB-SCT\" THEN \"UK\"\n",
    "        WHEN \"GB-WLS\" THEN \"UK\"\n",
    "        WHEN \"_united-nations\" THEN \"UK\"\n",
    "        WHEN \"ES-CT\" THEN \"ES\"\n",
    "        WHEN \"CA-QC\" THEN \"CA\"\n",
    "        ELSE country\n",
    "    END) as country\n",
    "FROM users \n",
    "where \n",
    "country not in (\"No Country\", \"_east-turkestan\", \"_adygea\", \"_earth\", \"_belarus-wrw\", \n",
    "\"_lichess\", \"_pirate\", \"_rainbow\", \"east-turkestan\")\n",
    "AND blitz_games > 100\n",
    "AND rapid_games > 100\n",
    "AND bullet_games > 100) t1\n",
    "\n",
    "\"\"\"\n",
    "result = cursor.execute(query)\n",
    "## Getting the list of all users\n",
    "users = pd.read_sql_query(query, con)"
   ]
  },
  {
   "cell_type": "code",
   "execution_count": null,
   "id": "7ca5b2b0",
   "metadata": {},
   "outputs": [],
   "source": [
    "## Random sampling from the user dataset\n",
    "## Querying all the data would take 60 hours...\n",
    "userlist_cleaned = []\n",
    "AllUsers = pd.DataFrame()\n",
    "Ratingless800 = users[users['blitz_rating'] <= 800]\n",
    "Rating800to1000 = users[(users['blitz_rating'] > 800) & (users['blitz_rating'] <= 1000)]\n",
    "Rating1000to1200 = users[(users['blitz_rating'] > 1000) & (users['blitz_rating'] <= 1200)].sample(100)\n",
    "Rating1200to1400 = users[(users['blitz_rating'] > 1000) & (users['blitz_rating'] <= 1200)].sample(100)\n",
    "Rating1400to1600 = users[(users['blitz_rating'] > 1400) & (users['blitz_rating'] <= 1600)].sample(250)\n",
    "Rating1600to1800 = users[(users['blitz_rating'] > 1600) & (users['blitz_rating'] <= 1800)].sample(250)\n",
    "Rating1800to2000 = users[(users['blitz_rating'] > 1800) & (users['blitz_rating'] <= 2000)].sample(250)\n",
    "Rating2000to2200 = users[(users['blitz_rating'] > 2000) & (users['blitz_rating'] <= 2200)].sample(250)\n",
    "RatingAbove2200 = users[(users['blitz_rating'] > 2200)].sample(250)\n",
    "userlist_cleaned = [Ratingless800, Rating800to1000, Rating1000to1200, Rating1200to1400, Rating1200to1400\n",
    "        ,Rating1400to1600, Rating1600to1800, Rating1800to2000, Rating2000to2200, RatingAbove2200]\n",
    "UsersSelected = pd.concat(userlist_cleaned, ignore_index = True)"
   ]
  },
  {
   "cell_type": "code",
   "execution_count": null,
   "id": "1ef00306",
   "metadata": {},
   "outputs": [],
   "source": [
    "UsersSelected.to_csv(\"Users_Selected.csv\")"
   ]
  },
  {
   "cell_type": "code",
   "execution_count": null,
   "id": "1ab6552b",
   "metadata": {},
   "outputs": [],
   "source": [
    "## Query games from user database\n",
    "all_games = []\n",
    "all_games_df = pd.DataFrame()\n",
    "for i in range(len(UsersSelected)):\n",
    "    params = {\n",
    "        'max': 15,\n",
    "        'rated': True,\n",
    "        'perfType': 'blitz,rapid,bullet',\n",
    "        'analysed': True,\n",
    "        'evals': True,\n",
    "        'opening': True,     \n",
    "    }\n",
    "    username = UsersSelected['id'][i]\n",
    "    path = f'api/games/user/{username}'\n",
    "    games = API.get(path=path, params = params)\n",
    "    games_data = LichessRequestor.parse(games, convert=False)\n",
    "    data = LichessRequestor.parse_games(games_data, LichessRequestor)\n",
    "    all_games.append(data)\n",
    "all_games_df = pd.concat(all_games, ignore_index = True)"
   ]
  },
  {
   "cell_type": "code",
   "execution_count": null,
   "id": "e83f8e74",
   "metadata": {},
   "outputs": [],
   "source": [
    "all_games_df.to_csv(\"all_games.csv\")"
   ]
  },
  {
   "cell_type": "code",
   "execution_count": null,
   "id": "a76dfc26",
   "metadata": {},
   "outputs": [],
   "source": [
    "all_games_dict = all_games_df.to_dict()\n",
    "all_games_df_with_countries = LichessRequestor.parse_countries(all_games_dict)"
   ]
  },
  {
   "cell_type": "code",
   "execution_count": null,
   "id": "d0877f83",
   "metadata": {},
   "outputs": [],
   "source": [
    "all_games_df_with_countries['black_country'].replace({\"GB-ENG\": \"UK\", \"GB-NIR\": \"UK\", \"GB-SCT\": \"UK\", \n",
    "                                                      \"GB-WLS\": \"UK\", \"_united-nations\" : \"UN\", \"ES-CT\": \"ES\", \n",
    "                                                      \"CA-QC\": \"CA\"}, inplace = True)\n",
    "all_games_df_with_countries['white_country'].replace({\"GB-ENG\": \"UK\", \"GB-NIR\": \"UK\", \"GB-SCT\": \"UK\", \n",
    "                                                      \"GB-WLS\": \"UK\", \"_united-nations\" : \"UN\", \"ES-CT\": \"ES\", \n",
    "                                                      \"CA-QC\": \"CA\"}, inplace = True)"
   ]
  },
  {
   "cell_type": "code",
   "execution_count": null,
   "id": "7ffcf5d5",
   "metadata": {},
   "outputs": [],
   "source": [
    "all_games_df_with_countries.to_csv(\"games_with_country.csv\")"
   ]
  },
  {
   "cell_type": "code",
   "execution_count": null,
   "id": "633d5a55",
   "metadata": {},
   "outputs": [],
   "source": [
    "games_cleaned = all_games_df_with_countries[(all_games_df_with_countries['white_country'].str.len() == 2) \n",
    "                & (all_games_df_with_countries['black_country'].str.len() == 2)]\n",
    "games_cleaned.reset_index(inplace = True, drop = True)"
   ]
  },
  {
   "cell_type": "code",
   "execution_count": null,
   "id": "37cbc51c",
   "metadata": {},
   "outputs": [],
   "source": [
    "games_cleaned_w_country = games_cleaned.to_dict()\n",
    "all_games_final = LichessRequestor.parse_winstreak(games_cleaned_w_country)"
   ]
  },
  {
   "cell_type": "code",
   "execution_count": null,
   "id": "bf88f081",
   "metadata": {},
   "outputs": [],
   "source": [
    "all_games_final.to_csv(\"All Games Final.csv\")"
   ]
  }
 ],
 "metadata": {
  "kernelspec": {
   "display_name": "Python 3 (ipykernel)",
   "language": "python",
   "name": "python3"
  },
  "language_info": {
   "codemirror_mode": {
    "name": "ipython",
    "version": 3
   },
   "file_extension": ".py",
   "mimetype": "text/x-python",
   "name": "python",
   "nbconvert_exporter": "python",
   "pygments_lexer": "ipython3",
   "version": "3.9.7"
  }
 },
 "nbformat": 4,
 "nbformat_minor": 5
}
